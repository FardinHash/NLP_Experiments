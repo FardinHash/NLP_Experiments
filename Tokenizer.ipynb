{
  "nbformat": 4,
  "nbformat_minor": 0,
  "metadata": {
    "colab": {
      "name": "Tokenizer.ipynb",
      "provenance": [],
      "collapsed_sections": []
    },
    "kernelspec": {
      "name": "python3",
      "display_name": "Python 3"
    },
    "language_info": {
      "name": "python"
    }
  },
  "cells": [
    {
      "cell_type": "code",
      "execution_count": 1,
      "metadata": {
        "id": "JfL1yAiQaPmp"
      },
      "outputs": [],
      "source": [
        "import tensorflow as tf\n",
        "from tensorflow import keras\n",
        "from tensorflow.keras.preprocessing.text import Tokenizer"
      ]
    },
    {
      "cell_type": "code",
      "source": [
        "sentence = [\n",
        "            'people call its magic, we call it engineering'\n",
        "]"
      ],
      "metadata": {
        "id": "ljjboDwLbnBr"
      },
      "execution_count": 5,
      "outputs": []
    },
    {
      "cell_type": "code",
      "source": [
        "tokenize=Tokenizer(num_words=100)\n",
        "tokenize.fit_on_texts(sentence)\n",
        "word_index=tokenize.word_index\n",
        "print(word_index)"
      ],
      "metadata": {
        "colab": {
          "base_uri": "https://localhost:8080/"
        },
        "id": "IKcpkv9acAfN",
        "outputId": "0f0964af-c93c-4541-f2c3-9e6133dadde1"
      },
      "execution_count": 6,
      "outputs": [
        {
          "output_type": "stream",
          "name": "stdout",
          "text": [
            "{'call': 1, 'people': 2, 'its': 3, 'magic': 4, 'we': 5, 'it': 6, 'engineering': 7}\n"
          ]
        }
      ]
    }
  ]
}