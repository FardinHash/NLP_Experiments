{
  "nbformat": 4,
  "nbformat_minor": 0,
  "metadata": {
    "colab": {
      "name": "Sequencing_sentences.ipynb",
      "provenance": [],
      "collapsed_sections": []
    },
    "kernelspec": {
      "name": "python3",
      "display_name": "Python 3"
    },
    "language_info": {
      "name": "python"
    }
  },
  "cells": [
    {
      "cell_type": "code",
      "execution_count": 1,
      "metadata": {
        "id": "JfL1yAiQaPmp"
      },
      "outputs": [],
      "source": [
        "import tensorflow as tf\n",
        "from tensorflow import keras\n",
        "from tensorflow.keras.preprocessing.text import Tokenizer\n",
        "from tensorflow.keras.preprocessing.sequence import pad_sequences"
      ]
    },
    {
      "cell_type": "code",
      "source": [
        "sentences = [\n",
        "            'people call its magic, we call it engineering',\n",
        "            'Research anything that you love!',\n",
        "            'Be a lazy programmer'\n",
        "]"
      ],
      "metadata": {
        "id": "ljjboDwLbnBr"
      },
      "execution_count": 3,
      "outputs": []
    },
    {
      "cell_type": "code",
      "source": [
        "tokenizer = Tokenizer(num_words =100)\n",
        "tokenizer.fit_on_texts(sentences)\n",
        "word_index = tokenizer.word_index"
      ],
      "metadata": {
        "id": "IKcpkv9acAfN"
      },
      "execution_count": 5,
      "outputs": []
    },
    {
      "cell_type": "code",
      "source": [
        "sequences = tokenizer.texts_to_sequences(sentences)"
      ],
      "metadata": {
        "id": "fa436oYc3Iup"
      },
      "execution_count": 6,
      "outputs": []
    },
    {
      "cell_type": "code",
      "source": [
        "padded = pad_sequences(sequences, maxlen=5)\n",
        "print('Word Index = ' , word_index)\n",
        "print('Sequences= ' , sequences)\n",
        "print('Padded Sequences: ')\n",
        "print(padded)"
      ],
      "metadata": {
        "colab": {
          "base_uri": "https://localhost:8080/"
        },
        "id": "nlPxLmfR4ipS",
        "outputId": "8ab8e8a3-7c64-4738-f89b-ba1525eaefd9"
      },
      "execution_count": 10,
      "outputs": [
        {
          "output_type": "stream",
          "name": "stdout",
          "text": [
            "Word Index =  {'call': 1, 'people': 2, 'its': 3, 'magic': 4, 'we': 5, 'it': 6, 'engineering': 7, 'research': 8, 'anything': 9, 'that': 10, 'you': 11, 'love': 12, 'be': 13, 'a': 14, 'lazy': 15, 'programmer': 16}\n",
            "Sequences=  [[2, 1, 3, 4, 5, 1, 6, 7], [8, 9, 10, 11, 12], [13, 14, 15, 16]]\n",
            "Padded Sequences: \n",
            "[[ 4  5  1  6  7]\n",
            " [ 8  9 10 11 12]\n",
            " [ 0 13 14 15 16]]\n"
          ]
        }
      ]
    },
    {
      "cell_type": "code",
      "source": [
        "#About unfit words\n",
        "\n",
        "test_words = [\n",
        "    'The universe is full of stars',\n",
        "    'Space has no barrier!'\n",
        "]"
      ],
      "metadata": {
        "id": "4SwNl0UM5LKL"
      },
      "execution_count": 13,
      "outputs": []
    },
    {
      "cell_type": "code",
      "source": [
        "test_seq = tokenizer.texts_to_sequences(test_words)\n",
        "print('Test Sequence = ', test_seq)\n",
        "\n",
        "padded = pad_sequences(test_seq, padding='post', maxlen=10)\n",
        "print('Padded Test Sequence: ')\n",
        "print(padded)"
      ],
      "metadata": {
        "colab": {
          "base_uri": "https://localhost:8080/"
        },
        "id": "RYPdPYww6G-c",
        "outputId": "9fa4d5b5-bac4-4e51-8b75-24427d51fff5"
      },
      "execution_count": 18,
      "outputs": [
        {
          "output_type": "stream",
          "name": "stdout",
          "text": [
            "Test Sequence =  [[], []]\n",
            "Padded Test Sequence: \n",
            "[[0 0 0 0 0 0 0 0 0 0]\n",
            " [0 0 0 0 0 0 0 0 0 0]]\n"
          ]
        }
      ]
    }
  ]
}